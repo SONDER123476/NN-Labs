{
 "cells": [
  {
   "cell_type": "markdown",
   "metadata": {
    "id": "G2RQRgcfmdes"
   },
   "source": [
    "# Лабораторная работа 4"
   ]
  },
  {
   "cell_type": "markdown",
   "metadata": {
    "id": "6RXrbBbNmdev"
   },
   "source": [
    "Tensorflow 2.x\n",
    "\n",
    "1) Подготовка данных\n",
    "\n",
    "2) Использование Keras Model API\n",
    "\n",
    "3) Использование Keras Sequential + Functional API"
   ]
  },
  {
   "cell_type": "markdown",
   "metadata": {
    "id": "gUPFB3ZKmdew"
   },
   "source": [
    "https://www.tensorflow.org/tutorials"
   ]
  },
  {
   "cell_type": "markdown",
   "metadata": {
    "id": "v-KLJDFXmdew"
   },
   "source": [
    "Для выполнения лабораторной работы необходимо установить tensorflow версии 2.0 или выше .\n",
    "\n",
    "Рекомендуется использовать возможности Colab'а по обучению моделей на GPU.\n",
    "\n"
   ]
  },
  {
   "cell_type": "code",
   "execution_count": 1,
   "metadata": {
    "ExecuteTime": {
     "end_time": "2024-03-21T10:32:01.394648Z",
     "start_time": "2024-03-21T10:32:01.378584Z"
    },
    "colab": {
     "base_uri": "https://localhost:8080/"
    },
    "id": "1TSC3kHzmdex",
    "outputId": "578f857b-cd13-40b4-fd67-6becc266d599"
   },
   "outputs": [
    {
     "name": "stdout",
     "output_type": "stream",
     "text": [
      "Using device:  /device:GPU:0\n"
     ]
    }
   ],
   "source": [
    "import tensorflow as tf\n",
    "import numpy as np\n",
    "import os\n",
    "import math\n",
    "import timeit\n",
    "import matplotlib.pyplot as plt\n",
    "\n",
    "%matplotlib inline\n",
    "\n",
    "\n",
    "USE_GPU = True\n",
    "\n",
    "if USE_GPU:\n",
    "    device = '/device:GPU:0'\n",
    "else:\n",
    "    device = '/cpu:0'\n",
    "\n",
    "# Constant to control how often we print when training models.\n",
    "print_every = 100\n",
    "print('Using device: ', device)"
   ]
  },
  {
   "cell_type": "markdown",
   "metadata": {
    "id": "QW9-fCBumdey"
   },
   "source": [
    "# Подготовка данных\n",
    "Загрузите набор данных из предыдущей лабораторной работы."
   ]
  },
  {
   "cell_type": "code",
   "execution_count": 2,
   "metadata": {
    "ExecuteTime": {
     "end_time": "2024-03-21T10:32:03.359832Z",
     "start_time": "2024-03-21T10:32:01.709774Z"
    },
    "colab": {
     "base_uri": "https://localhost:8080/"
    },
    "id": "mLLN4mzDmdez",
    "outputId": "03032cc7-cfb9-49a1-858e-483c07991c7c"
   },
   "outputs": [
    {
     "name": "stdout",
     "output_type": "stream",
     "text": [
      "Train data shape:  (49000, 28, 28, 1)\n",
      "Train labels shape:  (49000,) int32\n",
      "Validation data shape:  (1000, 28, 28, 1)\n",
      "Validation labels shape:  (1000,)\n",
      "Test data shape:  (10000, 28, 28, 1)\n",
      "Test labels shape:  (10000,)\n"
     ]
    }
   ],
   "source": [
    "def load_mnist(num_training=49000, num_validation=1000, num_test=10000):\n",
    "    \"\"\"\n",
    "    Fetch the CIFAR-10 dataset from the web and perform preprocessing to prepare\n",
    "    it for the two-layer neural net classifier. These are the same steps as\n",
    "    we used for the SVM, but condensed to a single function.\n",
    "    \"\"\"\n",
    "    # Load the raw CIFAR-10 dataset and use appropriate data types and shapes\n",
    "    mnist = tf.keras.datasets.mnist.load_data()\n",
    "    (X_train, y_train), (X_test, y_test) = mnist\n",
    "    X_train = np.asarray(X_train, dtype=np.float32)\n",
    "    y_train = np.asarray(y_train, dtype=np.int32).flatten()\n",
    "    X_test = np.asarray(X_test, dtype=np.float32)\n",
    "    y_test = np.asarray(y_test, dtype=np.int32).flatten()\n",
    "\n",
    "    # Subsample the data\n",
    "    mask = range(num_training, num_training + num_validation)\n",
    "    X_val = X_train[mask]\n",
    "    y_val = y_train[mask]\n",
    "    mask = range(num_training)\n",
    "    X_train = X_train[mask]\n",
    "    y_train = y_train[mask]\n",
    "    mask = range(num_test)\n",
    "    X_test = X_test[mask]\n",
    "    y_test = y_test[mask]\n",
    "\n",
    "    # Normalize the data: subtract the mean pixel and divide by std\n",
    "    mean_pixel = X_train.mean(axis=(0, 1, 2), keepdims=True)\n",
    "    std_pixel = X_train.std(axis=(0, 1, 2), keepdims=True)\n",
    "    X_train = (X_train - mean_pixel) / std_pixel\n",
    "    X_val = (X_val - mean_pixel) / std_pixel\n",
    "    X_test = (X_test - mean_pixel) / std_pixel\n",
    "\n",
    "    return X_train, y_train, X_val, y_val, X_test, y_test\n",
    "\n",
    "# If there are errors with SSL downloading involving self-signed certificates,\n",
    "# it may be that your Python version was recently installed on the current machine.\n",
    "# See: https://github.com/tensorflow/tensorflow/issues/10779\n",
    "# To fix, run the command: /Applications/Python\\ 3.7/Install\\ Certificates.command\n",
    "#   ...replacing paths as necessary.\n",
    "\n",
    "# Invoke the above function to get our data.\n",
    "NHW = (0, 1, 2)\n",
    "X_train, y_train, X_val, y_val, X_test, y_test = load_mnist()\n",
    "X_train = X_train.reshape(-1, 28, 28, 1)\n",
    "X_val = X_val.reshape(-1, 28, 28, 1)\n",
    "X_test = X_test.reshape(-1, 28, 28, 1)\n",
    "print('Train data shape: ', X_train.shape)\n",
    "print('Train labels shape: ', y_train.shape, y_train.dtype)\n",
    "print('Validation data shape: ', X_val.shape)\n",
    "print('Validation labels shape: ', y_val.shape)\n",
    "print('Test data shape: ', X_test.shape)\n",
    "print('Test labels shape: ', y_test.shape)"
   ]
  },
  {
   "cell_type": "code",
   "execution_count": 3,
   "metadata": {
    "ExecuteTime": {
     "end_time": "2024-03-21T10:32:03.390892Z",
     "start_time": "2024-03-21T10:32:03.361829Z"
    },
    "id": "zFdFh2Tsmdez"
   },
   "outputs": [],
   "source": [
    "class Dataset(object):\n",
    "    def __init__(self, X, y, batch_size, shuffle=False):\n",
    "        \"\"\"\n",
    "        Construct a Dataset object to iterate over data X and labels y\n",
    "\n",
    "        Inputs:\n",
    "        - X: Numpy array of data, of any shape\n",
    "        - y: Numpy array of labels, of any shape but with y.shape[0] == X.shape[0]\n",
    "        - batch_size: Integer giving number of elements per minibatch\n",
    "        - shuffle: (optional) Boolean, whether to shuffle the data on each epoch\n",
    "        \"\"\"\n",
    "        assert X.shape[0] == y.shape[0], 'Got different numbers of data and labels'\n",
    "        self.X, self.y = X, y\n",
    "        self.batch_size, self.shuffle = batch_size, shuffle\n",
    "\n",
    "    def __iter__(self):\n",
    "        N, B = self.X.shape[0], self.batch_size\n",
    "        idxs = np.arange(N)\n",
    "        if self.shuffle:\n",
    "            np.random.shuffle(idxs)\n",
    "        return iter((self.X[i:i+B], self.y[i:i+B]) for i in range(0, N, B))\n",
    "\n",
    "\n",
    "train_dset = Dataset(X_train, y_train, batch_size=64, shuffle=True)\n",
    "val_dset = Dataset(X_val, y_val, batch_size=64, shuffle=False)\n",
    "test_dset = Dataset(X_test, y_test, batch_size=64)"
   ]
  },
  {
   "cell_type": "code",
   "execution_count": 4,
   "metadata": {
    "ExecuteTime": {
     "end_time": "2024-03-21T10:32:03.438893Z",
     "start_time": "2024-03-21T10:32:03.392899Z"
    },
    "colab": {
     "base_uri": "https://localhost:8080/"
    },
    "id": "WxhBcG5Jmde0",
    "outputId": "ada0f915-0842-48ae-ebc0-ed17a52b26d0"
   },
   "outputs": [
    {
     "name": "stdout",
     "output_type": "stream",
     "text": [
      "0 (64, 28, 28, 1) (64,)\n",
      "1 (64, 28, 28, 1) (64,)\n",
      "2 (64, 28, 28, 1) (64,)\n",
      "3 (64, 28, 28, 1) (64,)\n",
      "4 (64, 28, 28, 1) (64,)\n",
      "5 (64, 28, 28, 1) (64,)\n",
      "6 (64, 28, 28, 1) (64,)\n"
     ]
    }
   ],
   "source": [
    "# We can iterate through a dataset like this:\n",
    "for t, (x, y) in enumerate(train_dset):\n",
    "    print(t, x.shape, y.shape)\n",
    "    if t > 5: break"
   ]
  },
  {
   "cell_type": "markdown",
   "metadata": {
    "id": "7bBfBfYpmde1"
   },
   "source": []
  },
  {
   "cell_type": "markdown",
   "metadata": {
    "id": "Y3Pofr7mmde1"
   },
   "source": [
    "\n"
   ]
  },
  {
   "cell_type": "markdown",
   "metadata": {
    "id": "1UqJbbQsmde1"
   },
   "source": [
    "#  Keras Model Subclassing API"
   ]
  },
  {
   "cell_type": "markdown",
   "metadata": {
    "id": "zMW3obRHmde1"
   },
   "source": [
    "\n",
    "Для реализации собственной модели с помощью Keras Model Subclassing API необходимо выполнить следующие шаги:\n",
    "\n",
    "1) Определить новый класс, который является наследником tf.keras.Model.\n",
    "\n",
    "2) В методе __init__() определить все необходимые слои из модуля tf.keras.layer\n",
    "\n",
    "3) Реализовать прямой проход в методе call() на основе слоев, объявленных в __init__()\n",
    "\n",
    "Ниже приведен пример использования keras API для определения двухслойной полносвязной сети.\n",
    "\n",
    "https://www.tensorflow.org/versions/r2.0/api_docs/python/tf/keras"
   ]
  },
  {
   "cell_type": "code",
   "execution_count": 5,
   "metadata": {
    "ExecuteTime": {
     "end_time": "2024-03-21T10:32:03.469890Z",
     "start_time": "2024-03-21T10:32:03.440894Z"
    },
    "colab": {
     "base_uri": "https://localhost:8080/"
    },
    "id": "-HXiyu_mmde1",
    "outputId": "f5d467d7-6c38-4a41-c8c3-23588653cc5a"
   },
   "outputs": [
    {
     "name": "stdout",
     "output_type": "stream",
     "text": [
      "(64, 10)\n"
     ]
    }
   ],
   "source": [
    "class TwoLayerFC(tf.keras.Model):\n",
    "    def __init__(self, hidden_size, num_classes):\n",
    "        super(TwoLayerFC, self).__init__()\n",
    "        initializer = tf.initializers.VarianceScaling(scale=2.0)\n",
    "        self.fc1 = tf.keras.layers.Dense(hidden_size, activation='relu',\n",
    "                                   kernel_initializer=initializer)\n",
    "        self.fc2 = tf.keras.layers.Dense(num_classes, activation='softmax',\n",
    "                                   kernel_initializer=initializer)\n",
    "        self.flatten = tf.keras.layers.Flatten()\n",
    "\n",
    "    def call(self, x, training=False):\n",
    "        x = self.flatten(x)\n",
    "        x = self.fc1(x)\n",
    "        x = self.fc2(x)\n",
    "        return x\n",
    "\n",
    "\n",
    "def test_TwoLayerFC():\n",
    "    \"\"\" A small unit test to exercise the TwoLayerFC model above. \"\"\"\n",
    "    input_size, hidden_size, num_classes = 50, 42, 10\n",
    "    x = tf.zeros((64, input_size))\n",
    "    model = TwoLayerFC(hidden_size, num_classes)\n",
    "    # with tf.device(device):\n",
    "    scores = model(x)\n",
    "    print(scores.shape)\n",
    "\n",
    "test_TwoLayerFC()"
   ]
  },
  {
   "cell_type": "markdown",
   "metadata": {
    "id": "v76VwT_cmde2"
   },
   "source": [
    "Реализуйте трехслойную CNN для вашей задачи классификации.\n",
    "\n",
    "Архитектура сети:\n",
    "    \n",
    "1. Сверточный слой (5 x 5 kernels, zero-padding = 'same')\n",
    "2. Функция активации ReLU\n",
    "3. Сверточный слой (3 x 3 kernels, zero-padding = 'same')\n",
    "4. Функция активации ReLU\n",
    "5. Полносвязный слой\n",
    "6. Функция активации Softmax\n",
    "\n",
    "https://www.tensorflow.org/versions/r2.0/api_docs/python/tf/keras/layers/Conv2D\n",
    "\n",
    "https://www.tensorflow.org/versions/r2.0/api_docs/python/tf/keras/layers/Dense"
   ]
  },
  {
   "cell_type": "code",
   "execution_count": 6,
   "metadata": {
    "ExecuteTime": {
     "end_time": "2024-03-21T10:32:03.485889Z",
     "start_time": "2024-03-21T10:32:03.471890Z"
    },
    "id": "9V4lPunEmde2"
   },
   "outputs": [],
   "source": [
    "class ThreeLayerConvNet(tf.keras.Model):\n",
    "    def __init__(self, channel_1, channel_2, num_classes):\n",
    "        super(ThreeLayerConvNet, self).__init__()\n",
    "        ########################################################################\n",
    "        # Определение слоев для сверточной нейронной сети.\n",
    "        ########################################################################\n",
    "        self.conv1 = tf.keras.layers.Conv2D(channel_1, (5, 5), padding='same', activation='relu')\n",
    "        self.conv2 = tf.keras.layers.Conv2D(channel_2, (3, 3), padding='same', activation='relu')\n",
    "        self.flatten = tf.keras.layers.Flatten()\n",
    "        self.fc = tf.keras.layers.Dense(num_classes, activation='softmax')\n",
    "\n",
    "    def call(self, x, training=False):\n",
    "        ########################################################################\n",
    "        # Прямой проход для сверточной нейронной сети.\n",
    "        ########################################################################\n",
    "        x = self.conv1(x)\n",
    "        x = self.conv2(x)\n",
    "        x = self.flatten(x)\n",
    "        x = self.fc(x)\n",
    "        return x"
   ]
  },
  {
   "cell_type": "code",
   "execution_count": 7,
   "metadata": {
    "ExecuteTime": {
     "end_time": "2024-03-21T10:32:03.533896Z",
     "start_time": "2024-03-21T10:32:03.511895Z"
    },
    "colab": {
     "base_uri": "https://localhost:8080/"
    },
    "id": "-R34I4KXmde2",
    "outputId": "f5eaa650-713d-4b68-801b-7164814bfd19"
   },
   "outputs": [
    {
     "name": "stdout",
     "output_type": "stream",
     "text": [
      "(64, 10)\n"
     ]
    }
   ],
   "source": [
    "def test_ThreeLayerConvNet():\n",
    "    channel_1, channel_2, num_classes = 12, 8, 10\n",
    "    model = ThreeLayerConvNet(channel_1, channel_2, num_classes)\n",
    "    with tf.device(device):\n",
    "        x = tf.zeros((64, 3, 32, 32))\n",
    "        scores = model(x)\n",
    "        print(scores.shape)\n",
    "\n",
    "test_ThreeLayerConvNet()"
   ]
  },
  {
   "cell_type": "markdown",
   "metadata": {
    "id": "BBh2BMKzmde2"
   },
   "source": [
    "Пример реализации процесса обучения:"
   ]
  },
  {
   "cell_type": "code",
   "execution_count": 10,
   "metadata": {
    "ExecuteTime": {
     "end_time": "2024-03-21T10:32:03.581893Z",
     "start_time": "2024-03-21T10:32:03.562890Z"
    },
    "id": "OxOMn46Bmde3"
   },
   "outputs": [],
   "source": [
    "def train_part34(model_init_fn, optimizer_init_fn, num_epochs=1, is_training=False):\n",
    "    \"\"\"\n",
    "    Simple training loop for use with models defined using tf.keras. It trains\n",
    "    a model for one epoch on the CIFAR-10 training set and periodically checks\n",
    "    accuracy on the CIFAR-10 validation set.\n",
    "\n",
    "    Inputs:\n",
    "    - model_init_fn: A function that takes no parameters; when called it\n",
    "      constructs the model we want to train: model = model_init_fn()\n",
    "    - optimizer_init_fn: A function which takes no parameters; when called it\n",
    "      constructs the Optimizer object we will use to optimize the model:\n",
    "      optimizer = optimizer_init_fn()\n",
    "    - num_epochs: The number of epochs to train for\n",
    "\n",
    "    Returns: Nothing, but prints progress during trainingn\n",
    "    \"\"\"\n",
    "    with tf.device(device):\n",
    "\n",
    "        # Compute the loss like we did in Part II\n",
    "        loss_fn = tf.keras.losses.SparseCategoricalCrossentropy()\n",
    "\n",
    "        model = model_init_fn()\n",
    "        optimizer = optimizer_init_fn()\n",
    "\n",
    "        train_loss = tf.keras.metrics.Mean(name='train_loss')\n",
    "        train_accuracy = tf.keras.metrics.SparseCategoricalAccuracy(name='train_accuracy')\n",
    "\n",
    "        val_loss = tf.keras.metrics.Mean(name='val_loss')\n",
    "        val_accuracy = tf.keras.metrics.SparseCategoricalAccuracy(name='val_accuracy')\n",
    "\n",
    "        t = 0\n",
    "        for epoch in range(num_epochs):\n",
    "\n",
    "\n",
    "            for x_np, y_np in train_dset:\n",
    "                with tf.GradientTape() as tape:\n",
    "\n",
    "                    # Use the model function to build the forward pass.\n",
    "                    scores = model(x_np, training=is_training)\n",
    "                    loss = loss_fn(y_np, scores)\n",
    "\n",
    "                    gradients = tape.gradient(loss, model.trainable_variables)\n",
    "                    optimizer.apply_gradients(zip(gradients, model.trainable_variables))\n",
    "\n",
    "                    # Update the metrics\n",
    "                    train_loss.update_state(loss)\n",
    "                    train_accuracy.update_state(y_np, scores)\n",
    "\n",
    "                    if t % print_every == 0:\n",
    "                        for test_x, test_y in val_dset:\n",
    "                            # During validation at end of epoch, training set to False\n",
    "                            prediction = model(test_x, training=False)\n",
    "                            t_loss = loss_fn(test_y, prediction)\n",
    "\n",
    "                            val_loss.update_state(t_loss)\n",
    "                            val_accuracy.update_state(test_y, prediction)\n",
    "\n",
    "                        template = 'Iteration {}, Epoch {}, Loss: {}, Accuracy: {}, Val Loss: {}, Val Accuracy: {}'\n",
    "                        print (template.format(t, epoch+1,\n",
    "                                             train_loss.result(),\n",
    "                                             train_accuracy.result()*100,\n",
    "                                             val_loss.result(),\n",
    "                                             val_accuracy.result()*100))\n",
    "                    t += 1"
   ]
  },
  {
   "cell_type": "code",
   "execution_count": 11,
   "metadata": {
    "ExecuteTime": {
     "end_time": "2024-03-21T10:32:34.721805Z",
     "start_time": "2024-03-21T10:32:03.751891Z"
    },
    "colab": {
     "base_uri": "https://localhost:8080/"
    },
    "id": "AKjdcmMhmde3",
    "outputId": "02d779ae-ad02-4d32-ff19-efd42d344c3a"
   },
   "outputs": [
    {
     "name": "stdout",
     "output_type": "stream",
     "text": [
      "Iteration 0, Epoch 1, Loss: 2.881380319595337, Accuracy: 4.6875, Val Loss: 2.4567816257476807, Val Accuracy: 16.399999618530273\n",
      "Iteration 100, Epoch 1, Loss: 0.6470337510108948, Accuracy: 80.151611328125, Val Loss: 1.5014357566833496, Val Accuracy: 49.54999923706055\n",
      "Iteration 200, Epoch 1, Loss: 0.5125266909599304, Accuracy: 84.67817687988281, Val Loss: 1.1509863138198853, Val Accuracy: 61.966670989990234\n",
      "Iteration 300, Epoch 1, Loss: 0.4545842111110687, Accuracy: 86.47737121582031, Val Loss: 0.9624605178833008, Val Accuracy: 68.5250015258789\n",
      "Iteration 400, Epoch 1, Loss: 0.40970030426979065, Accuracy: 87.7844467163086, Val Loss: 0.8429557085037231, Val Accuracy: 72.53999328613281\n",
      "Iteration 500, Epoch 1, Loss: 0.3858059346675873, Accuracy: 88.55414581298828, Val Loss: 0.760904848575592, Val Accuracy: 75.3499984741211\n",
      "Iteration 600, Epoch 1, Loss: 0.36307987570762634, Accuracy: 89.22888946533203, Val Loss: 0.7005277276039124, Val Accuracy: 77.44285583496094\n",
      "Iteration 700, Epoch 1, Loss: 0.34530386328697205, Accuracy: 89.77799224853516, Val Loss: 0.6529666781425476, Val Accuracy: 79.0374984741211\n"
     ]
    }
   ],
   "source": [
    "hidden_size, num_classes = 4000, 10\n",
    "learning_rate = 1e-2\n",
    "\n",
    "def model_init_fn():\n",
    "    return TwoLayerFC(hidden_size, num_classes)\n",
    "\n",
    "def optimizer_init_fn():\n",
    "    return tf.keras.optimizers.SGD(learning_rate=learning_rate)\n",
    "\n",
    "train_part34(model_init_fn, optimizer_init_fn)"
   ]
  },
  {
   "cell_type": "markdown",
   "metadata": {
    "id": "jjGVqPb_mde3"
   },
   "source": [
    "Обучите трехслойную CNN. В tf.keras.optimizers.SGD укажите Nesterov momentum = 0.9 .\n",
    "\n",
    "https://www.tensorflow.org/versions/r2.0/api_docs/python/tf/optimizers/SGD\n",
    "\n",
    "Значение accuracy на валидационной выборке после 1 эпохи обучения должно быть > 50% ."
   ]
  },
  {
   "cell_type": "code",
   "execution_count": 12,
   "metadata": {
    "ExecuteTime": {
     "end_time": "2024-03-21T10:33:26.734189Z",
     "start_time": "2024-03-21T10:32:34.723805Z"
    },
    "colab": {
     "base_uri": "https://localhost:8080/"
    },
    "id": "q-64ZL0mmde3",
    "outputId": "e1e7b50f-9e9c-4340-91da-d0ade64b3b8b"
   },
   "outputs": [
    {
     "name": "stdout",
     "output_type": "stream",
     "text": [
      "Iteration 0, Epoch 1, Loss: 2.300961971282959, Accuracy: 7.8125, Val Loss: 2.2755849361419678, Val Accuracy: 9.800000190734863\n",
      "Iteration 100, Epoch 1, Loss: 0.6715565919876099, Accuracy: 80.81682586669922, Val Loss: 1.404179334640503, Val Accuracy: 46.20000076293945\n",
      "Iteration 200, Epoch 1, Loss: 0.5201778411865234, Accuracy: 85.05130767822266, Val Loss: 1.0794507265090942, Val Accuracy: 59.96666717529297\n",
      "Iteration 300, Epoch 1, Loss: 0.43750956654548645, Accuracy: 87.37022399902344, Val Loss: 0.8807223439216614, Val Accuracy: 68.0\n",
      "Iteration 400, Epoch 1, Loss: 0.3750922381877899, Accuracy: 89.11315155029297, Val Loss: 0.7519369721412659, Val Accuracy: 73.05999755859375\n",
      "Iteration 500, Epoch 1, Loss: 0.33468759059906006, Accuracy: 90.3349609375, Val Loss: 0.6620727777481079, Val Accuracy: 76.43333435058594\n",
      "Iteration 600, Epoch 1, Loss: 0.3021031618118286, Accuracy: 91.24375915527344, Val Loss: 0.599862277507782, Val Accuracy: 78.69999694824219\n",
      "Iteration 700, Epoch 1, Loss: 0.276764839887619, Accuracy: 91.9556884765625, Val Loss: 0.5461370348930359, Val Accuracy: 80.5374984741211\n"
     ]
    }
   ],
   "source": [
    "learning_rate = 3e-3\n",
    "channel_1, channel_2, num_classes = 32, 16, 10\n",
    "\n",
    "def model_init_fn():\n",
    "    model = None\n",
    "    ############################################################################\n",
    "    # TODO: Complete the implementation of model_fn.                           #\n",
    "    ############################################################################\n",
    "    # *****START OF YOUR CODE (DO NOT DELETE/MODIFY THIS LINE)*****\n",
    "\n",
    "    model = ThreeLayerConvNet(channel_1, channel_2, num_classes)\n",
    "\n",
    "    # *****END OF YOUR CODE (DO NOT DELETE/MODIFY THIS LINE)*****\n",
    "    ############################################################################\n",
    "    #                           END OF YOUR CODE                               #\n",
    "    ############################################################################\n",
    "    return model\n",
    "\n",
    "def optimizer_init_fn():\n",
    "    optimizer = None\n",
    "    ############################################################################\n",
    "    # TODO: Complete the implementation of model_fn.                           #\n",
    "    ############################################################################\n",
    "    # *****START OF YOUR CODE (DO NOT DELETE/MODIFY THIS LINE)*****\n",
    "\n",
    "    optimizer = tf.keras.optimizers.SGD(learning_rate=learning_rate, momentum=0.9, nesterov=True)\n",
    "\n",
    "    # *****END OF YOUR CODE (DO NOT DELETE/MODIFY THIS LINE)*****\n",
    "    ############################################################################\n",
    "    #                           END OF YOUR CODE                               #\n",
    "    ############################################################################\n",
    "    return optimizer\n",
    "\n",
    "train_part34(model_init_fn, optimizer_init_fn)"
   ]
  },
  {
   "cell_type": "markdown",
   "metadata": {
    "id": "KPvuYgDWmde4"
   },
   "source": [
    "# Использование Keras Sequential API для реализации последовательных моделей.\n",
    "\n",
    "Пример для полносвязной сети:"
   ]
  },
  {
   "cell_type": "code",
   "execution_count": 13,
   "metadata": {
    "ExecuteTime": {
     "end_time": "2024-03-21T10:33:55.035281Z",
     "start_time": "2024-03-21T10:33:26.735190Z"
    },
    "colab": {
     "base_uri": "https://localhost:8080/"
    },
    "id": "qjmdhDmSmde4",
    "outputId": "3e787cd1-d8c9-43be-ff8f-bd4378ff85e2"
   },
   "outputs": [
    {
     "name": "stderr",
     "output_type": "stream",
     "text": [
      "C:\\Users\\SONDER\\anaconda3\\Lib\\site-packages\\keras\\src\\layers\\reshaping\\flatten.py:37: UserWarning: Do not pass an `input_shape`/`input_dim` argument to a layer. When using Sequential models, prefer using an `Input(shape)` object as the first layer in the model instead.\n",
      "  super().__init__(**kwargs)\n"
     ]
    },
    {
     "name": "stdout",
     "output_type": "stream",
     "text": [
      "Iteration 0, Epoch 1, Loss: 2.787783145904541, Accuracy: 15.625, Val Loss: 2.76202130317688, Val Accuracy: 17.100000381469727\n",
      "Iteration 100, Epoch 1, Loss: 0.6589286923408508, Accuracy: 79.81126403808594, Val Loss: 1.673017144203186, Val Accuracy: 49.29999923706055\n",
      "Iteration 200, Epoch 1, Loss: 0.5193970203399658, Accuracy: 84.53824615478516, Val Loss: 1.2731164693832397, Val Accuracy: 61.400001525878906\n",
      "Iteration 300, Epoch 1, Loss: 0.4595524072647095, Accuracy: 86.3943099975586, Val Loss: 1.0615370273590088, Val Accuracy: 67.69999694824219\n",
      "Iteration 400, Epoch 1, Loss: 0.41477879881858826, Accuracy: 87.8039321899414, Val Loss: 0.9254206418991089, Val Accuracy: 71.97999572753906\n",
      "Iteration 500, Epoch 1, Loss: 0.3903908431529999, Accuracy: 88.55414581298828, Val Loss: 0.8312861323356628, Val Accuracy: 74.96666717529297\n",
      "Iteration 600, Epoch 1, Loss: 0.3671102821826935, Accuracy: 89.23928833007812, Val Loss: 0.7614436745643616, Val Accuracy: 77.1142807006836\n",
      "Iteration 700, Epoch 1, Loss: 0.3495844304561615, Accuracy: 89.75570678710938, Val Loss: 0.7061488628387451, Val Accuracy: 78.82500457763672\n"
     ]
    }
   ],
   "source": [
    "learning_rate = 1e-2\n",
    "\n",
    "def model_init_fn():\n",
    "    input_shape = (28,28,1)\n",
    "    hidden_layer_size, num_classes = 4000, 10\n",
    "    initializer = tf.initializers.VarianceScaling(scale=2.0)\n",
    "    layers = [\n",
    "        tf.keras.layers.Flatten(input_shape=input_shape),\n",
    "        tf.keras.layers.Dense(hidden_layer_size, activation='relu',\n",
    "                              kernel_initializer=initializer),\n",
    "        tf.keras.layers.Dense(num_classes, activation='softmax',\n",
    "                              kernel_initializer=initializer),\n",
    "    ]\n",
    "    model = tf.keras.Sequential(layers)\n",
    "    return model\n",
    "\n",
    "def optimizer_init_fn():\n",
    "    return tf.keras.optimizers.SGD(learning_rate=learning_rate)\n",
    "\n",
    "train_part34(model_init_fn, optimizer_init_fn)"
   ]
  },
  {
   "cell_type": "markdown",
   "metadata": {
    "id": "nvijUA_9mde4"
   },
   "source": [
    "Альтернативный менее гибкий способ обучения:"
   ]
  },
  {
   "cell_type": "code",
   "execution_count": 14,
   "metadata": {
    "ExecuteTime": {
     "end_time": "2024-03-21T10:33:59.392586Z",
     "start_time": "2024-03-21T10:33:55.037282Z"
    },
    "colab": {
     "base_uri": "https://localhost:8080/"
    },
    "id": "JJzOLRM2mde4",
    "outputId": "4f02a80c-b579-48ef-ff49-820d35067526"
   },
   "outputs": [
    {
     "name": "stdout",
     "output_type": "stream",
     "text": [
      "\u001b[1m766/766\u001b[0m \u001b[32m━━━━━━━━━━━━━━━━━━━━\u001b[0m\u001b[37m\u001b[0m \u001b[1m5s\u001b[0m 6ms/step - loss: 0.5401 - sparse_categorical_accuracy: 0.8362 - val_loss: 0.2995 - val_sparse_categorical_accuracy: 0.9020\n",
      "\u001b[1m313/313\u001b[0m \u001b[32m━━━━━━━━━━━━━━━━━━━━\u001b[0m\u001b[37m\u001b[0m \u001b[1m0s\u001b[0m 1ms/step - loss: 0.2639 - sparse_categorical_accuracy: 0.9253\n"
     ]
    },
    {
     "data": {
      "text/plain": [
       "[0.22451354563236237, 0.9358000159263611]"
      ]
     },
     "execution_count": 14,
     "metadata": {},
     "output_type": "execute_result"
    }
   ],
   "source": [
    "model = model_init_fn()\n",
    "model.compile(optimizer=tf.keras.optimizers.SGD(learning_rate=learning_rate),\n",
    "              loss='sparse_categorical_crossentropy',\n",
    "              metrics=[tf.keras.metrics.sparse_categorical_accuracy])\n",
    "model.fit(X_train, y_train, batch_size=64, epochs=1, validation_data=(X_val, y_val))\n",
    "model.evaluate(X_test, y_test)"
   ]
  },
  {
   "cell_type": "markdown",
   "metadata": {
    "id": "UtXOP9immde4"
   },
   "source": [
    "Перепишите реализацию трехслойной CNN с помощью tf.keras.Sequential API . Обучите модель двумя способами."
   ]
  },
  {
   "cell_type": "code",
   "execution_count": 15,
   "metadata": {
    "ExecuteTime": {
     "end_time": "2024-03-21T10:34:49.743065Z",
     "start_time": "2024-03-21T10:33:59.393586Z"
    },
    "colab": {
     "base_uri": "https://localhost:8080/"
    },
    "id": "xv4nD7N3mde5",
    "outputId": "4e0ddd89-08b3-4abb-f062-d1a26ed46df1"
   },
   "outputs": [
    {
     "name": "stdout",
     "output_type": "stream",
     "text": [
      "Iteration 0, Epoch 1, Loss: 2.3250391483306885, Accuracy: 6.25, Val Loss: 2.317898750305176, Val Accuracy: 9.700000762939453\n",
      "Iteration 100, Epoch 1, Loss: 2.2475337982177734, Accuracy: 20.018564224243164, Val Loss: 2.2563745975494385, Val Accuracy: 19.850000381469727\n",
      "Iteration 200, Epoch 1, Loss: 2.170219659805298, Accuracy: 32.361629486083984, Val Loss: 2.1805479526519775, Val Accuracy: 31.0\n",
      "Iteration 300, Epoch 1, Loss: 2.0760531425476074, Accuracy: 41.777408599853516, Val Loss: 2.076848030090332, Val Accuracy: 39.75\n",
      "Iteration 400, Epoch 1, Loss: 1.9336026906967163, Accuracy: 49.00249099731445, Val Loss: 1.9395687580108643, Val Accuracy: 45.939998626708984\n",
      "Iteration 500, Epoch 1, Loss: 1.7789456844329834, Accuracy: 54.484779357910156, Val Loss: 1.7924151420593262, Val Accuracy: 50.93333053588867\n",
      "Iteration 600, Epoch 1, Loss: 1.6264835596084595, Accuracy: 58.83943557739258, Val Loss: 1.6583442687988281, Val Accuracy: 54.77143096923828\n",
      "Iteration 700, Epoch 1, Loss: 1.4966870546340942, Accuracy: 62.192405700683594, Val Loss: 1.5425034761428833, Val Accuracy: 57.974998474121094\n"
     ]
    }
   ],
   "source": [
    "def model_init_fn():\n",
    "    model = None\n",
    "    ############################################################################\n",
    "    # TODO: Construct a three-layer ConvNet using tf.keras.Sequential.         #\n",
    "    ############################################################################\n",
    "    # *****START OF YOUR CODE (DO NOT DELETE/MODIFY THIS LINE)*****\n",
    "\n",
    "    model = ThreeLayerConvNet(channel_1, channel_2, num_classes)\n",
    "\n",
    "    # *****END OF YOUR CODE (DO NOT DELETE/MODIFY THIS LINE)*****\n",
    "    ############################################################################\n",
    "    #                            END OF YOUR CODE                              #\n",
    "    ############################################################################\n",
    "    return model\n",
    "\n",
    "learning_rate = 5e-4\n",
    "def optimizer_init_fn():\n",
    "    optimizer = None\n",
    "    ############################################################################\n",
    "    # TODO: Complete the implementation of model_fn.                           #\n",
    "    ############################################################################\n",
    "    # *****START OF YOUR CODE (DO NOT DELETE/MODIFY THIS LINE)*****\n",
    "\n",
    "    optimizer = tf.keras.optimizers.SGD(learning_rate)\n",
    "\n",
    "    # *****END OF YOUR CODE (DO NOT DELETE/MODIFY THIS LINE)*****\n",
    "    ############################################################################\n",
    "    #                           END OF YOUR CODE                               #\n",
    "    ############################################################################\n",
    "    return optimizer\n",
    "\n",
    "train_part34(model_init_fn, optimizer_init_fn)"
   ]
  },
  {
   "cell_type": "code",
   "execution_count": 16,
   "metadata": {
    "ExecuteTime": {
     "start_time": "2024-03-21T10:34:49.744065Z"
    },
    "colab": {
     "base_uri": "https://localhost:8080/"
    },
    "id": "FIRJ96Exmde5",
    "is_executing": true,
    "outputId": "91652cea-40aa-4412-fd86-abdb37c41952"
   },
   "outputs": [
    {
     "name": "stdout",
     "output_type": "stream",
     "text": [
      "\u001b[1m766/766\u001b[0m \u001b[32m━━━━━━━━━━━━━━━━━━━━\u001b[0m\u001b[37m\u001b[0m \u001b[1m6s\u001b[0m 7ms/step - loss: 0.6701 - sparse_categorical_accuracy: 0.8020 - val_loss: 0.2219 - val_sparse_categorical_accuracy: 0.9390\n",
      "\u001b[1m313/313\u001b[0m \u001b[32m━━━━━━━━━━━━━━━━━━━━\u001b[0m\u001b[37m\u001b[0m \u001b[1m1s\u001b[0m 2ms/step - loss: 0.1699 - sparse_categorical_accuracy: 0.9526\n"
     ]
    },
    {
     "data": {
      "text/plain": [
       "[0.1477421373128891, 0.9584000110626221]"
      ]
     },
     "execution_count": 16,
     "metadata": {},
     "output_type": "execute_result"
    }
   ],
   "source": [
    "model = model_init_fn()\n",
    "model.compile(optimizer='sgd',\n",
    "              loss='sparse_categorical_crossentropy',\n",
    "              metrics=[tf.keras.metrics.sparse_categorical_accuracy])\n",
    "model.fit(X_train, y_train, batch_size=64, epochs=1, validation_data=(X_val, y_val))\n",
    "model.evaluate(X_test, y_test)"
   ]
  },
  {
   "cell_type": "markdown",
   "metadata": {
    "id": "rMHQrrbzmde5"
   },
   "source": [
    "# Использование Keras Functional API\n",
    "\n",
    "Для реализации более сложных архитектур сети с несколькими входами/выходами, повторным использованием слоев, \"остаточными\" связями (residual connections) необходимо явно указать входные и выходные тензоры.\n",
    "\n",
    "Ниже представлен пример для полносвязной сети."
   ]
  },
  {
   "cell_type": "code",
   "execution_count": 17,
   "metadata": {
    "colab": {
     "base_uri": "https://localhost:8080/"
    },
    "id": "CdKAP4Gjmde5",
    "outputId": "f6ec5eb0-218e-42ae-e523-4b55dd22b0f6"
   },
   "outputs": [
    {
     "name": "stdout",
     "output_type": "stream",
     "text": [
      "(64, 10)\n"
     ]
    }
   ],
   "source": [
    "def two_layer_fc_functional(input_shape, hidden_size, num_classes):\n",
    "    initializer = tf.initializers.VarianceScaling(scale=2.0)\n",
    "    inputs = tf.keras.Input(shape=input_shape)\n",
    "    flattened_inputs = tf.keras.layers.Flatten()(inputs)\n",
    "    fc1_output = tf.keras.layers.Dense(hidden_size, activation='relu',\n",
    "                                 kernel_initializer=initializer)(flattened_inputs)\n",
    "    scores = tf.keras.layers.Dense(num_classes, activation='softmax',\n",
    "                             kernel_initializer=initializer)(fc1_output)\n",
    "\n",
    "    # Instantiate the model given inputs and outputs.\n",
    "    model = tf.keras.Model(inputs=inputs, outputs=scores)\n",
    "    return model\n",
    "\n",
    "def test_two_layer_fc_functional():\n",
    "    \"\"\" A small unit test to exercise the TwoLayerFC model above. \"\"\"\n",
    "    input_size, hidden_size, num_classes = 50, 42, 10\n",
    "    input_shape = (50,)\n",
    "\n",
    "    x = tf.zeros((64, input_size))\n",
    "    model = two_layer_fc_functional(input_shape, hidden_size, num_classes)\n",
    "\n",
    "    with tf.device(device):\n",
    "        scores = model(x)\n",
    "        print(scores.shape)\n",
    "\n",
    "test_two_layer_fc_functional()"
   ]
  },
  {
   "cell_type": "code",
   "execution_count": 18,
   "metadata": {
    "colab": {
     "base_uri": "https://localhost:8080/"
    },
    "id": "wCnxBWsxmde5",
    "outputId": "36a11af2-e38d-4ca3-9e32-0e837a891c07"
   },
   "outputs": [
    {
     "name": "stdout",
     "output_type": "stream",
     "text": [
      "Iteration 0, Epoch 1, Loss: 3.0077171325683594, Accuracy: 4.6875, Val Loss: 2.6899092197418213, Val Accuracy: 19.799999237060547\n",
      "Iteration 100, Epoch 1, Loss: 0.6498576402664185, Accuracy: 80.33724975585938, Val Loss: 1.6222048997879028, Val Accuracy: 51.30000305175781\n",
      "Iteration 200, Epoch 1, Loss: 0.5125072002410889, Accuracy: 84.86473846435547, Val Loss: 1.237444281578064, Val Accuracy: 62.66666793823242\n",
      "Iteration 300, Epoch 1, Loss: 0.45453721284866333, Accuracy: 86.4617919921875, Val Loss: 1.0344390869140625, Val Accuracy: 68.69999694824219\n",
      "Iteration 400, Epoch 1, Loss: 0.4109973907470703, Accuracy: 87.80782318115234, Val Loss: 0.9021774530410767, Val Accuracy: 72.77999877929688\n",
      "Iteration 500, Epoch 1, Loss: 0.38661324977874756, Accuracy: 88.56973266601562, Val Loss: 0.8118723034858704, Val Accuracy: 75.5999984741211\n",
      "Iteration 600, Epoch 1, Loss: 0.3635864555835724, Accuracy: 89.2470932006836, Val Loss: 0.7450323104858398, Val Accuracy: 77.74285888671875\n",
      "Iteration 700, Epoch 1, Loss: 0.3459530770778656, Accuracy: 89.78468322753906, Val Loss: 0.6921021938323975, Val Accuracy: 79.4000015258789\n"
     ]
    }
   ],
   "source": [
    "input_shape = (28, 28, 1)\n",
    "hidden_size, num_classes = 4000, 10\n",
    "learning_rate = 1e-2\n",
    "\n",
    "def model_init_fn():\n",
    "    return two_layer_fc_functional(input_shape, hidden_size, num_classes)\n",
    "\n",
    "def optimizer_init_fn():\n",
    "    return tf.keras.optimizers.SGD(learning_rate=learning_rate)\n",
    "\n",
    "train_part34(model_init_fn, optimizer_init_fn)"
   ]
  },
  {
   "cell_type": "markdown",
   "metadata": {
    "id": "ejJunY24mde6"
   },
   "source": []
  },
  {
   "cell_type": "markdown",
   "metadata": {
    "id": "F9Gcduahmde6"
   },
   "source": [
    "Поэкспериментируйте с архитектурой сверточной сети. Для вашего набора данных вам необходимо получить как минимум 70% accuracy на валидационной выборке за 10 эпох обучения. Опишите все эксперименты и сделайте выводы (без выполнения данного пункта работы приниматься не будут).\n",
    "\n",
    "Эспериментируйте с архитектурой, гиперпараметрами, функцией потерь, регуляризацией, методом оптимизации.  \n",
    "\n",
    "https://www.tensorflow.org/versions/r2.0/api_docs/python/tf/keras/layers/BatchNormalization#methods https://www.tensorflow.org/versions/r2.0/api_docs/python/tf/keras/layers/Dropout#methods"
   ]
  },
  {
   "cell_type": "code",
   "execution_count": 19,
   "metadata": {
    "id": "dyKT825Imde6"
   },
   "outputs": [],
   "source": [
    "class _IdentityBlock(tf.keras.Model):\n",
    "    \"\"\"Identity block utilizing skip connections.\"\"\"\n",
    "\n",
    "    def __init__(self, out_channels):\n",
    "        super().__init__()\n",
    "        \"\"\"Initializes the identiy block.\n",
    "\n",
    "        Here we simply initialize 2 layers which process the input and after the output\n",
    "        is produces it is added together with the input whcih is the final output.\n",
    "\n",
    "        Args:\n",
    "            out_channels (int): The number of activation maps this block should produce\n",
    "        \"\"\"\n",
    "        # Acts as Kaiming weight initalization\n",
    "        initializer = tf.initializers.VarianceScaling(scale=2.0)\n",
    "\n",
    "        # Part 1 of the convolution, normalization and non-linearity\n",
    "        self.conv1 = tf.keras.layers.Conv2D(out_channels, 3, padding='same', use_bias=False, kernel_initializer=initializer)\n",
    "        self.norm1 = tf.keras.layers.BatchNormalization(axis=3)\n",
    "        self.relu1 = tf.keras.layers.Activation('relu')\n",
    "\n",
    "        # Part 2 of the convolution, normalization and non-linearity\n",
    "        self.conv2 = tf.keras.layers.Conv2D(out_channels, 3, padding='same', use_bias=False, kernel_initializer=initializer)\n",
    "        self.norm2 = tf.keras.layers.BatchNormalization(axis=3)\n",
    "        self.relu2 = tf.keras.layers.Activation('relu')\n",
    "\n",
    "        # Add layer will add together the input and the output\n",
    "        self.add = tf.keras.layers.Add()\n",
    "\n",
    "    def call(self, x, training=False):\n",
    "        \"\"\"Performs forward pass on the given input.\n",
    "\n",
    "        Args:\n",
    "            x (Tensor):      The input of dimensions (N, H, W, C)\n",
    "            training (bool): Indicates whether the forward pass happens in the training mode\n",
    "\n",
    "        Returns:\n",
    "              out (Tensor): Output data of dim (N, H, W, C)\n",
    "        \"\"\"\n",
    "        x_skip = tf.identity(x)                   # prepare to add the input to the output\n",
    "        x = self.relu1(self.norm1(self.conv1(x))) # pass input through the first layer\n",
    "        x = self.norm2(self.conv2(x))             # pass input through the second layer (without ReLU)\n",
    "        out = self.relu2(self.add([x, x_skip]))   # perform ReLU on the processed input added with the raw input\n",
    "\n",
    "        return out\n",
    "\n",
    "\n",
    "class ResNet(tf.keras.Model):\n",
    "\n",
    "    def __init__(self, in_channels=32, block_config=(2, 2, 2, 2), num_classes=10):\n",
    "        \"\"\"Initializes the residual network.\n",
    "\n",
    "        The first layer produces `in_channels` activation maps which are then fed to a\n",
    "        sequence of blocks containing a specified number of identity sub-blocks (first\n",
    "        block is always *_BottleneckBlock*). At the end the _global average pooling_\n",
    "        layer is used to flatten the activations for the linear softmax classifier.\n",
    "\n",
    "        Args:\n",
    "            in_channels (int):    The number of channels to extract after the first convolution\n",
    "            block_config (tuple): The number of layers each bloack should have in sequence\n",
    "            num_classes (int):    The total number of classes\n",
    "        \"\"\"\n",
    "        super().__init__()\n",
    "\n",
    "        # Acts as Kaiming weight initalization\n",
    "        initializer = tf.initializers.VarianceScaling(scale=2.0)\n",
    "\n",
    "        # Prepare the input for the chains of identity blocks\n",
    "        self.features = tf.keras.Sequential([\n",
    "            tf.keras.layers.Conv2D(in_channels, 5, padding='same', use_bias=False, kernel_initializer=initializer),\n",
    "            tf.keras.layers.BatchNormalization(axis=3),\n",
    "            tf.keras.layers.Activation('relu'),\n",
    "        ])\n",
    "\n",
    "        num_features = in_channels # num feaure maps to produce after each group of identity blocks\n",
    "\n",
    "        # Loop through every group of blocks\n",
    "        for i, num_layers in enumerate(block_config):\n",
    "            # Use bottleneck block as the first block in every group (except first)\n",
    "            if i != 0:\n",
    "                self.features.add(_BottleneckBlock(num_features))\n",
    "            else:\n",
    "                self.features.add(_IdentityBlock(num_features))\n",
    "\n",
    "            # Create the specified number of identity blocks for i'th group\n",
    "            for j in range(num_layers-1):\n",
    "                self.features.add(_IdentityBlock(num_features))\n",
    "\n",
    "            num_features *= 2 # increase the nuber of features to be produced\n",
    "\n",
    "        # Flatten the final activation maps using global average pooling\n",
    "        self.features.add(tf.keras.layers.GlobalAveragePooling2D())\n",
    "\n",
    "        # Softmax classifier is used as the final layer\n",
    "        self.classifier = tf.keras.layers.Dense(num_classes, activation='softmax', kernel_initializer=initializer)\n",
    "\n",
    "    def call(self, x, training=False):\n",
    "        \"\"\"Performs forward pass on the given input.\n",
    "\n",
    "        Args:\n",
    "            x (Tensor):      The input of dimensions (N, H, W, C)\n",
    "            training (bool): Indicates whether the forward pass happens in the training mode\n",
    "\n",
    "        Returns:\n",
    "            out (Tensor): Output data of dim (N, 10)\n",
    "        \"\"\"\n",
    "        out = self.features(x)     # Get the extracted features for the linear classfier\n",
    "        out = self.classifier(out) # Perform classification with softmax activation\n",
    "\n",
    "        return out\n",
    "class _BottleneckBlock(tf.keras.Model):\n",
    "    \"\"\"Same as identity block except it reduces the spacial area before processing the input.\"\"\"\n",
    "\n",
    "    def __init__(self, out_channels):\n",
    "        \"\"\"Initializes the bottleneck block.\n",
    "\n",
    "        Unlike *_IdentityBlock*, the first convolution here reduces the spacial size of the input\n",
    "        by a factor of `2`. Then, it performs the main convolution after which the output maps\n",
    "        are added together with the input maps to produce final activations.\n",
    "\n",
    "        Args:\n",
    "            out_channels (int): The number of activation maps this block should produce\n",
    "        \"\"\"\n",
    "        super().__init__()\n",
    "\n",
    "        # Acts as Kaiming weight initalization\n",
    "        initializer = tf.initializers.VarianceScaling(scale=2.0)\n",
    "\n",
    "        # Reduce the input size by 2 to match output size\n",
    "        self.skip1 = tf.keras.layers.Conv2D(out_channels, 1, strides=2, use_bias=False, kernel_initializer=initializer)\n",
    "\n",
    "        # Part 1 of the convolution which reduces the spacial area\n",
    "        self.conv1 = tf.keras.layers.Conv2D(out_channels, 3, strides=2, padding='same', use_bias=False, kernel_initializer=initializer)\n",
    "        self.norm1 = tf.keras.layers.BatchNormalization(axis=3)\n",
    "        self.relu1 = tf.keras.layers.Activation('relu')\n",
    "\n",
    "        # Part 2 of the convolution which extracts features from the reduced input\n",
    "        self.conv2 = tf.keras.layers.Conv2D(out_channels, 3, padding='same', use_bias=False, kernel_initializer=initializer)\n",
    "        self.norm2 = tf.keras.layers.BatchNormalization(axis=3)\n",
    "        self.relu2 = tf.keras.layers.Activation('relu')\n",
    "\n",
    "        # Add layer will add together the input and the output\n",
    "        self.add = tf.keras.layers.Add()\n",
    "\n",
    "    def call(self, x, training=False):\n",
    "        \"\"\"Performs forward pass on the given input.\n",
    "\n",
    "        Args:\n",
    "            x (Tensor):      The input of dimensions (N, H, W, C)\n",
    "            training (bool): Indicates whether the forward pass happens in the training mode\n",
    "\n",
    "        Returns:\n",
    "            out (Tensor): Output data of dim (N, H/2, W/2, out_channels)\n",
    "        \"\"\"\n",
    "        x_skip = self.skip1(x)                    # prepare to add the input to the output\n",
    "        x = self.relu1(self.norm1(self.conv1(x))) # pass input through the first layer\n",
    "        x = self.norm2(self.conv2(x))             # pass input through the second layer (without ReLU)\n",
    "        out = self.relu2(self.add([x, x_skip]))   # perform ReLU on the processed input added with the raw input\n",
    "\n",
    "        return out\n"
   ]
  },
  {
   "cell_type": "code",
   "execution_count": 22,
   "metadata": {
    "colab": {
     "base_uri": "https://localhost:8080/"
    },
    "id": "W4l_Ityxmde6",
    "outputId": "1749d277-95cf-4ad9-b8ca-7a7b95e4a9f4",
    "scrolled": true
   },
   "outputs": [
    {
     "name": "stderr",
     "output_type": "stream",
     "text": [
      "C:\\Users\\SONDER\\anaconda3\\Lib\\site-packages\\keras\\src\\layers\\layer.py:361: UserWarning: `build()` was called on layer 'custom_conv_net_5', however the layer does not have a `build()` method implemented and it looks like it has unbuilt state. This will cause the layer to be marked as built, despite not being actually built, which may cause failures down the line. Make sure to implement a proper `build()` method.\n",
      "  warnings.warn(\n"
     ]
    },
    {
     "name": "stdout",
     "output_type": "stream",
     "text": [
      "Iteration 0, Epoch 1, Loss: 3.767016887664795, Accuracy: 14.0625, Val Loss: 131.228515625, Val Accuracy: 10.699999809265137\n",
      "Iteration 100, Epoch 1, Loss: 0.3972124457359314, Accuracy: 88.07240295410156, Val Loss: 67.78279876708984, Val Accuracy: 25.099998474121094\n",
      "Iteration 200, Epoch 1, Loss: 0.26396840810775757, Accuracy: 91.8998794555664, Val Loss: 45.44111251831055, Val Accuracy: 44.16666793823242\n",
      "Iteration 300, Epoch 1, Loss: 0.2082356959581375, Accuracy: 93.5994644165039, Val Loss: 34.16777038574219, Val Accuracy: 55.97500228881836\n",
      "Iteration 400, Epoch 1, Loss: 0.17309176921844482, Accuracy: 94.70464324951172, Val Loss: 27.372440338134766, Val Accuracy: 63.540000915527344\n",
      "Iteration 500, Epoch 1, Loss: 0.15379154682159424, Accuracy: 95.29690551757812, Val Loss: 22.862985610961914, Val Accuracy: 68.04999542236328\n",
      "Iteration 600, Epoch 1, Loss: 0.14017567038536072, Accuracy: 95.73107147216797, Val Loss: 19.641305923461914, Val Accuracy: 71.42857360839844\n",
      "Iteration 700, Epoch 1, Loss: 0.13005730509757996, Accuracy: 96.05697631835938, Val Loss: 17.196197509765625, Val Accuracy: 74.6875\n",
      "Iteration 800, Epoch 2, Loss: 0.12237358093261719, Accuracy: 96.29586029052734, Val Loss: 15.316741943359375, Val Accuracy: 76.55555725097656\n",
      "Iteration 900, Epoch 2, Loss: 0.11481213569641113, Accuracy: 96.51457214355469, Val Loss: 13.793937683105469, Val Accuracy: 78.6199951171875\n",
      "Iteration 1000, Epoch 2, Loss: 0.10828100889921188, Accuracy: 96.71299743652344, Val Loss: 12.547690391540527, Val Accuracy: 80.34545135498047\n",
      "Iteration 1100, Epoch 2, Loss: 0.10169082134962082, Accuracy: 96.90801239013672, Val Loss: 11.509368896484375, Val Accuracy: 81.77499389648438\n",
      "Iteration 1200, Epoch 2, Loss: 0.09602974355220795, Accuracy: 97.0822525024414, Val Loss: 10.64217472076416, Val Accuracy: 82.80000305175781\n",
      "Iteration 1300, Epoch 2, Loss: 0.09144307672977448, Accuracy: 97.21288299560547, Val Loss: 9.892670631408691, Val Accuracy: 83.7357177734375\n",
      "Iteration 1400, Epoch 2, Loss: 0.08850324153900146, Accuracy: 97.3148193359375, Val Loss: 9.243978500366211, Val Accuracy: 84.5199966430664\n",
      "Iteration 1500, Epoch 2, Loss: 0.08481566607952118, Accuracy: 97.43023681640625, Val Loss: 8.671778678894043, Val Accuracy: 85.34375\n",
      "Iteration 1600, Epoch 3, Loss: 0.08171642571687698, Accuracy: 97.5287094116211, Val Loss: 8.166601181030273, Val Accuracy: 86.0882339477539\n",
      "Iteration 1700, Epoch 3, Loss: 0.07890737056732178, Accuracy: 97.6078872680664, Val Loss: 7.722803115844727, Val Accuracy: 86.58333587646484\n",
      "Iteration 1800, Epoch 3, Loss: 0.07581274211406708, Accuracy: 97.70257568359375, Val Loss: 7.320974826812744, Val Accuracy: 87.15789031982422\n",
      "Iteration 1900, Epoch 3, Loss: 0.07341431081295013, Accuracy: 97.77332305908203, Val Loss: 6.958829402923584, Val Accuracy: 87.70500183105469\n",
      "Iteration 2000, Epoch 3, Loss: 0.07116637378931046, Accuracy: 97.84245300292969, Val Loss: 6.633014678955078, Val Accuracy: 88.13809967041016\n",
      "Iteration 2100, Epoch 3, Loss: 0.06925886124372482, Accuracy: 97.90352630615234, Val Loss: 6.339627265930176, Val Accuracy: 88.49090576171875\n",
      "Iteration 2200, Epoch 3, Loss: 0.06781619042158127, Accuracy: 97.9419937133789, Val Loss: 6.068610191345215, Val Accuracy: 88.86087036132812\n"
     ]
    }
   ],
   "source": [
    "class CustomConvNet(tf.keras.Model):\n",
    "    def __init__(self):\n",
    "        super(CustomConvNet, self).__init__()\n",
    "        ############################################################################\n",
    "        # TODO: Construct a model that performs well on CIFAR-10                   #\n",
    "        ############################################################################\n",
    "        # *****START OF YOUR CODE (DO NOT DELETE/MODIFY THIS LINE)*****\n",
    "\n",
    "        self.model = ResNet()\n",
    "\n",
    "        # *****END OF YOUR CODE (DO NOT DELETE/MODIFY THIS LINE)*****\n",
    "        ############################################################################\n",
    "        #                            END OF YOUR CODE                              #\n",
    "        ############################################################################\n",
    "\n",
    "    def call(self, input_tensor, training=False):\n",
    "        ############################################################################\n",
    "        # TODO: Construct a model that performs well on CIFAR-10                   #\n",
    "        ############################################################################\n",
    "        # *****START OF YOUR CODE (DO NOT DELETE/MODIFY THIS LINE)*****\n",
    "\n",
    "        x = self.model.call(input_tensor, training)\n",
    "\n",
    "        # *****END OF YOUR CODE (DO NOT DELETE/MODIFY THIS LINE)*****\n",
    "        ############################################################################\n",
    "        #                            END OF YOUR CODE                              #\n",
    "        ############################################################################\n",
    "        return x\n",
    "\n",
    "\n",
    "print_every = 100\n",
    "num_epochs = 3\n",
    "\n",
    "model = CustomConvNet()\n",
    "\n",
    "def model_init_fn():\n",
    "    return CustomConvNet()\n",
    "\n",
    "def optimizer_init_fn():\n",
    "    learning_rate = 1e-3\n",
    "    return tf.keras.optimizers.Adam(learning_rate)\n",
    "\n",
    "train_part34(model_init_fn, optimizer_init_fn, num_epochs=num_epochs, is_training=True)"
   ]
  },
  {
   "cell_type": "markdown",
   "metadata": {
    "id": "nREnkxK3mde7"
   },
   "source": [
    "Опишите все эксперименты, результаты. Сделайте выводы."
   ]
  },
  {
   "cell_type": "markdown",
   "metadata": {
    "id": "kWa5BMuIroCi"
   },
   "source": []
  },
  {
   "cell_type": "markdown",
   "metadata": {
    "id": "2Y5OZJJumde7"
   },
   "source": [
    "  Была реализована следующая архитектура:\n",
    "        1. `CONV->NORM->RELU->CONV->NORM->RELU` для предварительной обработки входного сигнала для цепочки блоков слоев\n",
    "        2. `IDENTITY->[BOTTLENECK->IDENTITY] x N`, где каждый блок состоит из произвольного\n",
    "           где каждый блок состоит из произвольного количества слоев, использующих \"skip\" соединения\n",
    "        3. `POOL->DENSE->SOFTMAX`, где выполняется глобальное усреднение пула\n",
    "           перед вычислением raw scores\n",
    "В результате произведенной работы были получены необходимые результаты уже на 3 эпохе"
   ]
  },
  {
   "cell_type": "code",
   "execution_count": null,
   "metadata": {},
   "outputs": [],
   "source": []
  }
 ],
 "metadata": {
  "accelerator": "GPU",
  "colab": {
   "gpuType": "T4",
   "provenance": []
  },
  "kernelspec": {
   "display_name": "Python 3 (ipykernel)",
   "language": "python",
   "name": "python3"
  },
  "language_info": {
   "codemirror_mode": {
    "name": "ipython",
    "version": 3
   },
   "file_extension": ".py",
   "mimetype": "text/x-python",
   "name": "python",
   "nbconvert_exporter": "python",
   "pygments_lexer": "ipython3",
   "version": "3.11.7"
  }
 },
 "nbformat": 4,
 "nbformat_minor": 4
}
